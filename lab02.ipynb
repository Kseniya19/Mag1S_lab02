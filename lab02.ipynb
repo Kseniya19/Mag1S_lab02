{
 "cells": [
  {
   "cell_type": "code",
   "execution_count": 1,
   "id": "5f114523",
   "metadata": {},
   "outputs": [],
   "source": [
    "rus = 'абвгдежзийклмнопрстуфхцчшщъыьэюя'\n",
    "# маршрутное шифрование\n",
    "def mar(text, key, m, n):\n",
    "    global rus\n",
    "    textws = text.replace(' ', '')\n",
    "    if len(textws)<m*n:\n",
    "        textws += rus[:m*n-len(textws)]\n",
    "    t = iter(textws)\n",
    "    matrix = [[next(t) for y in range(m)] for x in range(n)]\n",
    "    ps = [rus.index(x) for x in key]\n",
    "    pss = sorted(ps)\n",
    "    output = ''\n",
    "    for letter in pss:\n",
    "        for x in range(n):\n",
    "            output += matrix[x][ps.index(letter)]\n",
    "    return output"
   ]
  },
  {
   "cell_type": "code",
   "execution_count": 3,
   "id": "e4b758ab",
   "metadata": {},
   "outputs": [
    {
     "name": "stdout",
     "output_type": "stream",
     "text": [
      "еенпнзоатаьовокннеьвлдирияцтиа\n"
     ]
    }
   ],
   "source": [
    "print(mar('нельзя недооценивать противника', 'пароль', 6, 5))"
   ]
  },
  {
   "cell_type": "code",
   "execution_count": 5,
   "id": "ae8b5dd2",
   "metadata": {},
   "outputs": [],
   "source": [
    "import numpy as np\n",
    "\n",
    "# шифрование с помощью решеток\n",
    "k = 2\n",
    "k2 = [x+1 for x in range(k**2)]\n",
    "matrix = [[0 for x in range(2*k)] for y in range(2*k)]\n",
    "matrix = np.array(matrix)\n",
    "for x in range(k**2):\n",
    "    c = 0\n",
    "    for x in range(k):\n",
    "        for y in range(k):\n",
    "            matrix[x][y] = k2[c]\n",
    "            c += 1\n",
    "    matrix = np.rot90(matrix)\n",
    "ds = {k: 0 for k in k2}\n",
    "dss = {1:2, 2:4, 3:3, 4:3}\n",
    "for x in range(k**2):\n",
    "    for y in range(k**2):\n",
    "        ds[matrix[x][y]] += 1\n",
    "        if ds[matrix[x][y]] != dss[matrix[x][y]]:\n",
    "            matrix[x][y] = -1\n",
    "        else:\n",
    "            matrix[x][y] = 0"
   ]
  },
  {
   "cell_type": "code",
   "execution_count": 7,
   "id": "e61256a8",
   "metadata": {},
   "outputs": [
    {
     "name": "stdout",
     "output_type": "stream",
     "text": [
      "овордлгпапиосдои\n"
     ]
    }
   ],
   "source": [
    "text = 'договорподписали'\n",
    "key = 'шифр'\n",
    "ct = 0\n",
    "t = iter(text)\n",
    "matrixt = [['О' for y in range(k**2)] for x in range(k**2)]\n",
    "for d in range(4):\n",
    "    for x in range(k**2):\n",
    "        for y in range(k**2):\n",
    "            if matrix[x][y] == 0:\n",
    "                matrixt[x][y] = text[ct]\n",
    "                ct += 1\n",
    "    matrix = np.rot90(matrix, -1)\n",
    "ps = [rus.index(x) for x in key]\n",
    "pss = sorted(ps)\n",
    "output = ''\n",
    "for letter in pss:\n",
    "    for x in range(k**2):\n",
    "        output += matrixt[x][ps.index(letter)]\n",
    "print(output)"
   ]
  },
  {
   "cell_type": "code",
   "execution_count": 8,
   "id": "eb3ada59",
   "metadata": {},
   "outputs": [],
   "source": [
    "# таблица Виженера\n",
    "def key_k(m, key):\n",
    "    key.replace(' ', '')\n",
    "    m.replace(' ', '')\n",
    "    key = list(key)\n",
    "    if len(m) == len(key):\n",
    "        return(key)\n",
    "    else:\n",
    "        for i in range(len(m) - len(key)):\n",
    "            key.append(key[i%len(key)])\n",
    "    return(''.join(key))\n",
    "\n",
    "def vig(m, key):\n",
    "    ct = []\n",
    "    m.replace(' ', '')\n",
    "    for i in range(len(m)):\n",
    "        x = (ord(m[i]) + ord(key[i])) % 32\n",
    "        x += ord('А')\n",
    "        ct.append(chr(x))\n",
    "    return(''.join(ct))"
   ]
  },
  {
   "cell_type": "code",
   "execution_count": 9,
   "id": "98c010bf",
   "metadata": {},
   "outputs": [
    {
     "name": "stdout",
     "output_type": "stream",
     "text": [
      "ЦРЪФЮОХШКФФЯГКЬЬЧПЧАЛНТШЦА\n"
     ]
    }
   ],
   "source": [
    "m = 'криптографиясерьезнаянаука'\n",
    "key = 'математика'\n",
    "print(vig(m, key_k(m, key)))"
   ]
  },
  {
   "cell_type": "code",
   "execution_count": 15,
   "id": "2af1e606",
   "metadata": {},
   "outputs": [],
   "source": [
    "def unvig(ct, key):\n",
    "    ot = []\n",
    "    for i in range(len(ct)):\n",
    "        x = (ord(ct[i]) - ord(key[i]) + 32) % 32\n",
    "        x += ord('а')\n",
    "        ot.append(chr(x))\n",
    "    return(''.join(ot))"
   ]
  },
  {
   "cell_type": "code",
   "execution_count": 16,
   "id": "9d4ec2d2",
   "metadata": {},
   "outputs": [
    {
     "name": "stdout",
     "output_type": "stream",
     "text": [
      "криптографиясерьезнаянаука\n"
     ]
    }
   ],
   "source": [
    "ct = 'ЦРЪФЮОХШКФФЯГКЬЬЧПЧАЛНТШЦА'\n",
    "key = 'математика'\n",
    "print(unvig(ct, key_k(ct, key)))"
   ]
  },
  {
   "cell_type": "code",
   "execution_count": null,
   "id": "4d50b36c",
   "metadata": {},
   "outputs": [],
   "source": []
  }
 ],
 "metadata": {
  "kernelspec": {
   "display_name": "Python 3 (ipykernel)",
   "language": "python",
   "name": "python3"
  },
  "language_info": {
   "codemirror_mode": {
    "name": "ipython",
    "version": 3
   },
   "file_extension": ".py",
   "mimetype": "text/x-python",
   "name": "python",
   "nbconvert_exporter": "python",
   "pygments_lexer": "ipython3",
   "version": "3.9.13"
  }
 },
 "nbformat": 4,
 "nbformat_minor": 5
}
